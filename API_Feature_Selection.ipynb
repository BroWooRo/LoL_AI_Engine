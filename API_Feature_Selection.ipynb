{
 "cells": [
  {
   "cell_type": "code",
   "execution_count": 20,
   "metadata": {
    "collapsed": true
   },
   "outputs": [],
   "source": [
    "from teemo import GetGameData"
   ]
  },
  {
   "cell_type": "code",
   "execution_count": 23,
   "metadata": {
    "collapsed": true
   },
   "outputs": [],
   "source": [
    "players = ['WooRoo']"
   ]
  },
  {
   "cell_type": "code",
   "execution_count": 22,
   "metadata": {
    "collapsed": true
   },
   "outputs": [],
   "source": [
    "get = GetGameData(key = 'Key hidden')"
   ]
  },
  {
   "cell_type": "code",
   "execution_count": 24,
   "metadata": {
    "collapsed": true
   },
   "outputs": [],
   "source": [
    "data = get.generate_player_history(players)"
   ]
  },
  {
   "cell_type": "code",
   "execution_count": 25,
   "metadata": {},
   "outputs": [],
   "source": [
    "data.columns = data.columns.map(lambda x: x.lower())"
   ]
  },
  {
   "cell_type": "code",
   "execution_count": 26,
   "metadata": {},
   "outputs": [],
   "source": [
    "import pandas as pd\n",
    "\n",
    "mod = pd.read_csv('clean_data.csv')"
   ]
  },
  {
   "cell_type": "code",
   "execution_count": 29,
   "metadata": {},
   "outputs": [
    {
     "name": "stdout",
     "output_type": "stream",
     "text": [
      "assists    |    id\n",
      "champlevel    |    win\n",
      "combatplayerscore    |    item1\n",
      "damagedealttoobjectives    |    item2\n",
      "damagedealttoturrets    |    item3\n",
      "damageselfmitigated    |    item4\n",
      "deaths    |    item5\n",
      "doublekills    |    item6\n",
      "firstbloodassist    |    trinket\n",
      "firstbloodkill    |    kills\n",
      "firstinhibitorassist    |    deaths\n",
      "firstinhibitorkill    |    assists\n",
      "firsttowerassist    |    largestkillingspree\n",
      "firsttowerkill    |    largestmultikill\n",
      "goldearned    |    killingsprees\n",
      "goldspent    |    longesttimespentliving\n",
      "inhibitorkills    |    doublekills\n",
      "item0    |    triplekills\n",
      "item1    |    quadrakills\n",
      "item2    |    pentakills\n",
      "item3    |    legendarykills\n",
      "item4    |    totdmgdealt\n",
      "item5    |    magicdmgdealt\n",
      "item6    |    physicaldmgdealt\n",
      "killingsprees    |    truedmgdealt\n",
      "kills    |    largestcrit\n",
      "largestcriticalstrike    |    totdmgtochamp\n",
      "largestkillingspree    |    magicdmgtochamp\n",
      "largestmultikill    |    physdmgtochamp\n",
      "longesttimespentliving    |    truedmgtochamp\n",
      "magicdamagedealt    |    totheal\n",
      "magicdamagedealttochampions    |    totunitshealed\n",
      "magicaldamagetaken    |    dmgselfmit\n",
      "neutralminionskilled    |    dmgtoobj\n",
      "neutralminionskilledenemyjungle    |    dmgtoturrets\n",
      "neutralminionskilledteamjungle    |    visionscore\n",
      "objectiveplayerscore    |    timecc\n",
      "participantid    |    totdmgtaken\n",
      "pentakills    |    magicdmgtaken\n",
      "perk0    |    physdmgtaken\n",
      "perk0var1    |    truedmgtaken\n",
      "perk0var2    |    goldearned\n",
      "perk0var3    |    goldspent\n",
      "perk1    |    turretkills\n",
      "perk1var1    |    inhibkills\n",
      "perk1var2    |    totminionskilled\n",
      "perk1var3    |    neutralminionskilled\n",
      "perk2    |    ownjunglekills\n",
      "perk2var1    |    enemyjunglekills\n",
      "perk2var2    |    totcctimedealt\n",
      "perk2var3    |    champlvl\n",
      "perk3    |    pinksbought\n",
      "perk3var1    |    wardsplaced\n",
      "perk3var2    |    wardskilled\n",
      "perk3var3    |    firstblood\n",
      "perk4    |    matchid\n",
      "perk4var1    |    championid\n",
      "perk4var2    |    ss1\n",
      "perk4var3    |    ss2\n",
      "perk5    |    support\n",
      "perk5var1    |    adc\n",
      "perk5var2    |    position_JUNGLE\n",
      "perk5var3    |    position_MID\n",
      "perkprimarystyle    |    position_TOP\n",
      "perksubstyle    |    duo\n"
     ]
    }
   ],
   "source": [
    "for api, mine in zip(data.columns, mod.columns):\n",
    "    print(api,'   |   ', mine)"
   ]
  },
  {
   "cell_type": "code",
   "execution_count": 39,
   "metadata": {},
   "outputs": [],
   "source": [
    "change_dict = {\n",
    "    'champlevel' : 'champlvl',\n",
    "    'damagedealttoturrets':'dmgtoturrets',\n",
    "    'damageselfmitigated' : 'dmgselfmit',\n",
    "    'firstbloodkill' : 'firstblood',\n",
    "    'inhibitorkills' : 'inhibkills',\n",
    "    'largestcriticalstrike' : 'largestcrit',\n",
    "    'magicdamagedealt' : 'magicdmgdealt',\n",
    "    'magicdamagedealttochampions' : 'magicdmgtochamp',\n",
    "    'magicaldamagetaken' : 'magicdmgtaken',\n",
    "    'neutralminionskilledenemyjungle' : 'enemyjunglekills',\n",
    "    'neutralminionskilledteamjungle' : 'ownjunglekills',\n",
    "    'damagedealttoobjectives' : 'dmgtoobj'\n",
    "}"
   ]
  },
  {
   "cell_type": "code",
   "execution_count": 49,
   "metadata": {},
   "outputs": [],
   "source": [
    "data = data.rename(columns=change_dict)"
   ]
  },
  {
   "cell_type": "code",
   "execution_count": 50,
   "metadata": {},
   "outputs": [
    {
     "data": {
      "text/plain": [
       "Index(['assists', 'champlvl', 'combatplayerscore', 'dmgtoobj', 'dmgtoturrets',\n",
       "       'dmgselfmit', 'deaths', 'doublekills', 'firstbloodassist', 'firstblood',\n",
       "       ...\n",
       "       'truedamagedealt', 'truedamagedealttochampions', 'truedamagetaken',\n",
       "       'turretkills', 'unrealkills', 'visionscore', 'visionwardsboughtingame',\n",
       "       'wardskilled', 'wardsplaced', 'win'],\n",
       "      dtype='object', length=101)"
      ]
     },
     "execution_count": 50,
     "metadata": {},
     "output_type": "execute_result"
    }
   ],
   "source": [
    "data.columns"
   ]
  },
  {
   "cell_type": "code",
   "execution_count": 51,
   "metadata": {
    "collapsed": true
   },
   "outputs": [],
   "source": [
    "def match_columns(df1, df2):\n",
    "    '''\n",
    "    match_columns(DataFrame1, DataFrame2)\n",
    "    ...\n",
    "    keeps columns with matching names\n",
    "    drops columns with names that do not exist in either DataFrame \n",
    "    returns DataFrame1, DataFrame2 with all matching column names\n",
    "    '''\n",
    "# iterate through the two columns, drop columns that only exist in one of the dataframes\n",
    "    for col in df1.columns:\n",
    "        if col not in df2.columns:\n",
    "            df1.drop(col, axis = 1, inplace = True)\n",
    "    for col in df2.columns:\n",
    "        if col not in df1.columns:\n",
    "            df2.drop(col, axis = 1, inplace = True)\n",
    "            \n",
    "# reorder one of the DataFrames to match the order of columns\n",
    "    ordered_df2 = pd.DataFrame()\n",
    "    for col in df1.columns: \n",
    "        ordered_df2[col] = df2[col]\n",
    "        \n",
    "    return df1, ordered_df2"
   ]
  },
  {
   "cell_type": "code",
   "execution_count": 52,
   "metadata": {},
   "outputs": [
    {
     "data": {
      "text/html": [
       "<div>\n",
       "<style>\n",
       "    .dataframe thead tr:only-child th {\n",
       "        text-align: right;\n",
       "    }\n",
       "\n",
       "    .dataframe thead th {\n",
       "        text-align: left;\n",
       "    }\n",
       "\n",
       "    .dataframe tbody tr th {\n",
       "        vertical-align: top;\n",
       "    }\n",
       "</style>\n",
       "<table border=\"1\" class=\"dataframe\">\n",
       "  <thead>\n",
       "    <tr style=\"text-align: right;\">\n",
       "      <th></th>\n",
       "      <th>id</th>\n",
       "      <th>win</th>\n",
       "      <th>item1</th>\n",
       "      <th>item2</th>\n",
       "      <th>item3</th>\n",
       "      <th>item4</th>\n",
       "      <th>item5</th>\n",
       "      <th>item6</th>\n",
       "      <th>trinket</th>\n",
       "      <th>kills</th>\n",
       "      <th>...</th>\n",
       "      <th>matchid</th>\n",
       "      <th>championid</th>\n",
       "      <th>ss1</th>\n",
       "      <th>ss2</th>\n",
       "      <th>support</th>\n",
       "      <th>adc</th>\n",
       "      <th>position_JUNGLE</th>\n",
       "      <th>position_MID</th>\n",
       "      <th>position_TOP</th>\n",
       "      <th>duo</th>\n",
       "    </tr>\n",
       "  </thead>\n",
       "  <tbody>\n",
       "    <tr>\n",
       "      <th>0</th>\n",
       "      <td>9</td>\n",
       "      <td>0</td>\n",
       "      <td>3748</td>\n",
       "      <td>2003</td>\n",
       "      <td>3111</td>\n",
       "      <td>3053</td>\n",
       "      <td>1419</td>\n",
       "      <td>1042</td>\n",
       "      <td>3340</td>\n",
       "      <td>6</td>\n",
       "      <td>...</td>\n",
       "      <td>10</td>\n",
       "      <td>19</td>\n",
       "      <td>4</td>\n",
       "      <td>11</td>\n",
       "      <td>0</td>\n",
       "      <td>0</td>\n",
       "      <td>1</td>\n",
       "      <td>0</td>\n",
       "      <td>0</td>\n",
       "      <td>0</td>\n",
       "    </tr>\n",
       "    <tr>\n",
       "      <th>1</th>\n",
       "      <td>10</td>\n",
       "      <td>0</td>\n",
       "      <td>2301</td>\n",
       "      <td>3111</td>\n",
       "      <td>3190</td>\n",
       "      <td>3107</td>\n",
       "      <td>0</td>\n",
       "      <td>0</td>\n",
       "      <td>3364</td>\n",
       "      <td>0</td>\n",
       "      <td>...</td>\n",
       "      <td>10</td>\n",
       "      <td>267</td>\n",
       "      <td>3</td>\n",
       "      <td>4</td>\n",
       "      <td>1</td>\n",
       "      <td>0</td>\n",
       "      <td>0</td>\n",
       "      <td>0</td>\n",
       "      <td>0</td>\n",
       "      <td>0</td>\n",
       "    </tr>\n",
       "    <tr>\n",
       "      <th>2</th>\n",
       "      <td>11</td>\n",
       "      <td>0</td>\n",
       "      <td>1055</td>\n",
       "      <td>3072</td>\n",
       "      <td>3006</td>\n",
       "      <td>3031</td>\n",
       "      <td>3046</td>\n",
       "      <td>1036</td>\n",
       "      <td>3340</td>\n",
       "      <td>7</td>\n",
       "      <td>...</td>\n",
       "      <td>10</td>\n",
       "      <td>119</td>\n",
       "      <td>7</td>\n",
       "      <td>4</td>\n",
       "      <td>0</td>\n",
       "      <td>1</td>\n",
       "      <td>0</td>\n",
       "      <td>0</td>\n",
       "      <td>0</td>\n",
       "      <td>0</td>\n",
       "    </tr>\n",
       "    <tr>\n",
       "      <th>3</th>\n",
       "      <td>12</td>\n",
       "      <td>0</td>\n",
       "      <td>1029</td>\n",
       "      <td>3078</td>\n",
       "      <td>3156</td>\n",
       "      <td>1001</td>\n",
       "      <td>3053</td>\n",
       "      <td>0</td>\n",
       "      <td>3340</td>\n",
       "      <td>5</td>\n",
       "      <td>...</td>\n",
       "      <td>10</td>\n",
       "      <td>114</td>\n",
       "      <td>12</td>\n",
       "      <td>4</td>\n",
       "      <td>0</td>\n",
       "      <td>0</td>\n",
       "      <td>0</td>\n",
       "      <td>0</td>\n",
       "      <td>1</td>\n",
       "      <td>0</td>\n",
       "    </tr>\n",
       "    <tr>\n",
       "      <th>4</th>\n",
       "      <td>13</td>\n",
       "      <td>0</td>\n",
       "      <td>3020</td>\n",
       "      <td>1058</td>\n",
       "      <td>3198</td>\n",
       "      <td>3102</td>\n",
       "      <td>1052</td>\n",
       "      <td>1026</td>\n",
       "      <td>3340</td>\n",
       "      <td>2</td>\n",
       "      <td>...</td>\n",
       "      <td>10</td>\n",
       "      <td>112</td>\n",
       "      <td>4</td>\n",
       "      <td>3</td>\n",
       "      <td>0</td>\n",
       "      <td>0</td>\n",
       "      <td>0</td>\n",
       "      <td>1</td>\n",
       "      <td>0</td>\n",
       "      <td>0</td>\n",
       "    </tr>\n",
       "  </tbody>\n",
       "</table>\n",
       "<p>5 rows × 65 columns</p>\n",
       "</div>"
      ],
      "text/plain": [
       "   id  win  item1  item2  item3  item4  item5  item6  trinket  kills ...   \\\n",
       "0   9    0   3748   2003   3111   3053   1419   1042     3340      6 ...    \n",
       "1  10    0   2301   3111   3190   3107      0      0     3364      0 ...    \n",
       "2  11    0   1055   3072   3006   3031   3046   1036     3340      7 ...    \n",
       "3  12    0   1029   3078   3156   1001   3053      0     3340      5 ...    \n",
       "4  13    0   3020   1058   3198   3102   1052   1026     3340      2 ...    \n",
       "\n",
       "   matchid  championid  ss1  ss2  support  adc  position_JUNGLE  position_MID  \\\n",
       "0       10          19    4   11        0    0                1             0   \n",
       "1       10         267    3    4        1    0                0             0   \n",
       "2       10         119    7    4        0    1                0             0   \n",
       "3       10         114   12    4        0    0                0             0   \n",
       "4       10         112    4    3        0    0                0             1   \n",
       "\n",
       "   position_TOP  duo  \n",
       "0             0    0  \n",
       "1             0    0  \n",
       "2             0    0  \n",
       "3             1    0  \n",
       "4             0    0  \n",
       "\n",
       "[5 rows x 65 columns]"
      ]
     },
     "execution_count": 52,
     "metadata": {},
     "output_type": "execute_result"
    }
   ],
   "source": [
    "mod.head()"
   ]
  },
  {
   "cell_type": "code",
   "execution_count": 53,
   "metadata": {},
   "outputs": [
    {
     "data": {
      "text/html": [
       "<div>\n",
       "<style>\n",
       "    .dataframe thead tr:only-child th {\n",
       "        text-align: right;\n",
       "    }\n",
       "\n",
       "    .dataframe thead th {\n",
       "        text-align: left;\n",
       "    }\n",
       "\n",
       "    .dataframe tbody tr th {\n",
       "        vertical-align: top;\n",
       "    }\n",
       "</style>\n",
       "<table border=\"1\" class=\"dataframe\">\n",
       "  <thead>\n",
       "    <tr style=\"text-align: right;\">\n",
       "      <th></th>\n",
       "      <th>assists</th>\n",
       "      <th>champlvl</th>\n",
       "      <th>combatplayerscore</th>\n",
       "      <th>dmgtoobj</th>\n",
       "      <th>dmgtoturrets</th>\n",
       "      <th>dmgselfmit</th>\n",
       "      <th>deaths</th>\n",
       "      <th>doublekills</th>\n",
       "      <th>firstbloodassist</th>\n",
       "      <th>firstblood</th>\n",
       "      <th>...</th>\n",
       "      <th>truedamagedealt</th>\n",
       "      <th>truedamagedealttochampions</th>\n",
       "      <th>truedamagetaken</th>\n",
       "      <th>turretkills</th>\n",
       "      <th>unrealkills</th>\n",
       "      <th>visionscore</th>\n",
       "      <th>visionwardsboughtingame</th>\n",
       "      <th>wardskilled</th>\n",
       "      <th>wardsplaced</th>\n",
       "      <th>win</th>\n",
       "    </tr>\n",
       "  </thead>\n",
       "  <tbody>\n",
       "    <tr>\n",
       "      <th>0</th>\n",
       "      <td>1</td>\n",
       "      <td>12</td>\n",
       "      <td>0</td>\n",
       "      <td>0</td>\n",
       "      <td>0</td>\n",
       "      <td>6604</td>\n",
       "      <td>2</td>\n",
       "      <td>0</td>\n",
       "      <td>False</td>\n",
       "      <td>False</td>\n",
       "      <td>...</td>\n",
       "      <td>4242</td>\n",
       "      <td>260</td>\n",
       "      <td>421</td>\n",
       "      <td>0</td>\n",
       "      <td>0</td>\n",
       "      <td>17</td>\n",
       "      <td>0</td>\n",
       "      <td>2.0</td>\n",
       "      <td>9.0</td>\n",
       "      <td>False</td>\n",
       "    </tr>\n",
       "    <tr>\n",
       "      <th>1</th>\n",
       "      <td>26</td>\n",
       "      <td>17</td>\n",
       "      <td>0</td>\n",
       "      <td>32689</td>\n",
       "      <td>637</td>\n",
       "      <td>18819</td>\n",
       "      <td>17</td>\n",
       "      <td>0</td>\n",
       "      <td>False</td>\n",
       "      <td>False</td>\n",
       "      <td>...</td>\n",
       "      <td>12868</td>\n",
       "      <td>260</td>\n",
       "      <td>775</td>\n",
       "      <td>0</td>\n",
       "      <td>0</td>\n",
       "      <td>70</td>\n",
       "      <td>0</td>\n",
       "      <td>1.0</td>\n",
       "      <td>36.0</td>\n",
       "      <td>False</td>\n",
       "    </tr>\n",
       "    <tr>\n",
       "      <th>2</th>\n",
       "      <td>3</td>\n",
       "      <td>11</td>\n",
       "      <td>0</td>\n",
       "      <td>3550</td>\n",
       "      <td>33</td>\n",
       "      <td>23053</td>\n",
       "      <td>10</td>\n",
       "      <td>1</td>\n",
       "      <td>False</td>\n",
       "      <td>False</td>\n",
       "      <td>...</td>\n",
       "      <td>4484</td>\n",
       "      <td>262</td>\n",
       "      <td>1131</td>\n",
       "      <td>0</td>\n",
       "      <td>0</td>\n",
       "      <td>22</td>\n",
       "      <td>2</td>\n",
       "      <td>2.0</td>\n",
       "      <td>12.0</td>\n",
       "      <td>False</td>\n",
       "    </tr>\n",
       "    <tr>\n",
       "      <th>3</th>\n",
       "      <td>13</td>\n",
       "      <td>11</td>\n",
       "      <td>0</td>\n",
       "      <td>1759</td>\n",
       "      <td>370</td>\n",
       "      <td>20012</td>\n",
       "      <td>3</td>\n",
       "      <td>0</td>\n",
       "      <td>False</td>\n",
       "      <td>False</td>\n",
       "      <td>...</td>\n",
       "      <td>3784</td>\n",
       "      <td>0</td>\n",
       "      <td>80</td>\n",
       "      <td>0</td>\n",
       "      <td>0</td>\n",
       "      <td>22</td>\n",
       "      <td>0</td>\n",
       "      <td>2.0</td>\n",
       "      <td>14.0</td>\n",
       "      <td>True</td>\n",
       "    </tr>\n",
       "    <tr>\n",
       "      <th>4</th>\n",
       "      <td>17</td>\n",
       "      <td>13</td>\n",
       "      <td>0</td>\n",
       "      <td>3815</td>\n",
       "      <td>934</td>\n",
       "      <td>14594</td>\n",
       "      <td>1</td>\n",
       "      <td>0</td>\n",
       "      <td>False</td>\n",
       "      <td>False</td>\n",
       "      <td>...</td>\n",
       "      <td>6301</td>\n",
       "      <td>652</td>\n",
       "      <td>769</td>\n",
       "      <td>0</td>\n",
       "      <td>0</td>\n",
       "      <td>15</td>\n",
       "      <td>0</td>\n",
       "      <td>1.0</td>\n",
       "      <td>9.0</td>\n",
       "      <td>True</td>\n",
       "    </tr>\n",
       "  </tbody>\n",
       "</table>\n",
       "<p>5 rows × 101 columns</p>\n",
       "</div>"
      ],
      "text/plain": [
       "   assists  champlvl  combatplayerscore  dmgtoobj  dmgtoturrets  dmgselfmit  \\\n",
       "0        1        12                  0         0             0        6604   \n",
       "1       26        17                  0     32689           637       18819   \n",
       "2        3        11                  0      3550            33       23053   \n",
       "3       13        11                  0      1759           370       20012   \n",
       "4       17        13                  0      3815           934       14594   \n",
       "\n",
       "   deaths  doublekills firstbloodassist firstblood  ...   truedamagedealt  \\\n",
       "0       2            0            False      False  ...              4242   \n",
       "1      17            0            False      False  ...             12868   \n",
       "2      10            1            False      False  ...              4484   \n",
       "3       3            0            False      False  ...              3784   \n",
       "4       1            0            False      False  ...              6301   \n",
       "\n",
       "  truedamagedealttochampions truedamagetaken turretkills  unrealkills  \\\n",
       "0                        260             421           0            0   \n",
       "1                        260             775           0            0   \n",
       "2                        262            1131           0            0   \n",
       "3                          0              80           0            0   \n",
       "4                        652             769           0            0   \n",
       "\n",
       "   visionscore  visionwardsboughtingame  wardskilled  wardsplaced    win  \n",
       "0           17                        0          2.0          9.0  False  \n",
       "1           70                        0          1.0         36.0  False  \n",
       "2           22                        2          2.0         12.0  False  \n",
       "3           22                        0          2.0         14.0   True  \n",
       "4           15                        0          1.0          9.0   True  \n",
       "\n",
       "[5 rows x 101 columns]"
      ]
     },
     "execution_count": 53,
     "metadata": {},
     "output_type": "execute_result"
    }
   ],
   "source": [
    "data.head()"
   ]
  },
  {
   "cell_type": "code",
   "execution_count": 54,
   "metadata": {
    "collapsed": true
   },
   "outputs": [],
   "source": [
    "mod.drop(['id', 'matchid'], axis=1, inplace=True)"
   ]
  },
  {
   "cell_type": "code",
   "execution_count": 55,
   "metadata": {},
   "outputs": [
    {
     "data": {
      "text/plain": [
       "(1834517, 63)"
      ]
     },
     "execution_count": 55,
     "metadata": {},
     "output_type": "execute_result"
    }
   ],
   "source": [
    "mod.shape"
   ]
  },
  {
   "cell_type": "code",
   "execution_count": 56,
   "metadata": {
    "collapsed": true
   },
   "outputs": [],
   "source": [
    "model, api = match_columns(mod, data)"
   ]
  },
  {
   "cell_type": "code",
   "execution_count": 57,
   "metadata": {},
   "outputs": [
    {
     "data": {
      "text/plain": [
       "(1834517, 37)"
      ]
     },
     "execution_count": 57,
     "metadata": {},
     "output_type": "execute_result"
    }
   ],
   "source": [
    "model.shape"
   ]
  },
  {
   "cell_type": "code",
   "execution_count": 63,
   "metadata": {},
   "outputs": [
    {
     "data": {
      "text/plain": [
       "(90, 37)"
      ]
     },
     "execution_count": 63,
     "metadata": {},
     "output_type": "execute_result"
    }
   ],
   "source": [
    "api.shape"
   ]
  },
  {
   "cell_type": "code",
   "execution_count": 66,
   "metadata": {},
   "outputs": [
    {
     "data": {
      "text/plain": [
       "bool"
      ]
     },
     "execution_count": 66,
     "metadata": {},
     "output_type": "execute_result"
    }
   ],
   "source": []
  },
  {
   "cell_type": "code",
   "execution_count": 68,
   "metadata": {
    "collapsed": true
   },
   "outputs": [],
   "source": [
    "X_train = model.drop('win', axis=1)\n",
    "y_train = model.win"
   ]
  },
  {
   "cell_type": "code",
   "execution_count": 60,
   "metadata": {},
   "outputs": [],
   "source": [
    "from sklearn.ensemble import RandomForestClassifier, GradientBoostingClassifier\n",
    "from sklearn.model_selection import cross_val_score, train_test_split, GridSearchCV"
   ]
  },
  {
   "cell_type": "code",
   "execution_count": 69,
   "metadata": {},
   "outputs": [
    {
     "name": "stdout",
     "output_type": "stream",
     "text": [
      "0.87679154704\n",
      "0.874670007838\n"
     ]
    }
   ],
   "source": [
    "rf = RandomForestClassifier(n_estimators=200)\n",
    "gb = GradientBoostingClassifier(n_estimators=200)\n",
    "\n",
    "print(cross_val_score(rf, X_train, y_train, cv=4).mean())\n",
    "print(cross_val_score(gb, X_train, y_train, cv=4).mean())"
   ]
  },
  {
   "cell_type": "code",
   "execution_count": 70,
   "metadata": {},
   "outputs": [
    {
     "data": {
      "text/plain": [
       "GradientBoostingClassifier(criterion='friedman_mse', init=None,\n",
       "              learning_rate=0.1, loss='deviance', max_depth=3,\n",
       "              max_features=None, max_leaf_nodes=None,\n",
       "              min_impurity_split=1e-07, min_samples_leaf=1,\n",
       "              min_samples_split=2, min_weight_fraction_leaf=0.0,\n",
       "              n_estimators=800, presort='auto', random_state=None,\n",
       "              subsample=1.0, verbose=0, warm_start=False)"
      ]
     },
     "execution_count": 70,
     "metadata": {},
     "output_type": "execute_result"
    }
   ],
   "source": [
    "gb = GradientBoostingClassifier(n_estimators=800)\n",
    "\n",
    "gb.fit(X_train, y_train)\n"
   ]
  },
  {
   "cell_type": "code",
   "execution_count": 80,
   "metadata": {},
   "outputs": [],
   "source": [
    "api.dropna(inplace=True)\n",
    "X_api = api.drop('win', axis=1)\n"
   ]
  },
  {
   "cell_type": "code",
   "execution_count": 86,
   "metadata": {},
   "outputs": [
    {
     "data": {
      "text/plain": [
       "0.88636363636363635"
      ]
     },
     "execution_count": 86,
     "metadata": {},
     "output_type": "execute_result"
    }
   ],
   "source": [
    "gb.score(X_api, api.win)"
   ]
  },
  {
   "cell_type": "code",
   "execution_count": 87,
   "metadata": {},
   "outputs": [
    {
     "data": {
      "text/plain": [
       "['WinLossModel.pkl']"
      ]
     },
     "execution_count": 87,
     "metadata": {},
     "output_type": "execute_result"
    }
   ],
   "source": [
    "import pickle\n",
    "from sklearn.externals import joblib\n",
    "\n",
    "joblib.dump(gb, 'WinLossModel.pkl')"
   ]
  },
  {
   "cell_type": "code",
   "execution_count": null,
   "metadata": {
    "collapsed": true
   },
   "outputs": [],
   "source": []
  }
 ],
 "metadata": {
  "kernelspec": {
   "display_name": "Python 3",
   "language": "python",
   "name": "python3"
  },
  "language_info": {
   "codemirror_mode": {
    "name": "ipython",
    "version": 3
   },
   "file_extension": ".py",
   "mimetype": "text/x-python",
   "name": "python",
   "nbconvert_exporter": "python",
   "pygments_lexer": "ipython3",
   "version": "3.6.1"
  }
 },
 "nbformat": 4,
 "nbformat_minor": 2
}
